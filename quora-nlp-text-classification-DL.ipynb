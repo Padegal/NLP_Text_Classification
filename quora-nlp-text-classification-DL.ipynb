{
 "cells": [
  {
   "cell_type": "code",
   "execution_count": 1,
   "metadata": {
    "_cell_guid": "b1076dfc-b9ad-4769-8c92-a6c4dae69d19",
    "_uuid": "8f2839f25d086af736a60e9eeb907d3b93b6e0e5"
   },
   "outputs": [
    {
     "name": "stdout",
     "output_type": "stream",
     "text": [
      "['sample_submission.csv', 'train.csv', 'test.csv', 'embeddings']\n"
     ]
    }
   ],
   "source": [
    "# Import Libraries\n",
    "import numpy as np # linear algebra\n",
    "import pandas as pd # data processing, CSV file I/O (e.g. pd.read_csv)\n",
    "import time\n",
    "from tqdm import tqdm\n",
    "import math\n",
    "import gc\n",
    "\n",
    "import os\n",
    "print(os.listdir(\"../input\"))"
   ]
  },
  {
   "cell_type": "code",
   "execution_count": 2,
   "metadata": {
    "_cell_guid": "79c7e3d0-c299-4dcb-8224-4455121ee9b0",
    "_uuid": "d629ff2d2480ee46fbb7e2d37f6b5fab8052498a"
   },
   "outputs": [],
   "source": [
    "# Get automatic reloading and inline plotting\n",
    "%reload_ext autoreload\n",
    "%autoreload 2\n",
    "%matplotlib inline"
   ]
  },
  {
   "cell_type": "code",
   "execution_count": 3,
   "metadata": {
    "_uuid": "c007da7203d55256e8ba3e713e49f8401caac746"
   },
   "outputs": [
    {
     "name": "stdout",
     "output_type": "stream",
     "text": [
      "True\n",
      "True\n"
     ]
    }
   ],
   "source": [
    "import torch\n",
    "### Checking GPU Set up\n",
    "print(torch.cuda.is_available())\n",
    "print(torch.backends.cudnn.enabled)"
   ]
  },
  {
   "cell_type": "code",
   "execution_count": 4,
   "metadata": {
    "_uuid": "634e83d34a09d7ad24178adb2b18a10479adffa6"
   },
   "outputs": [
    {
     "name": "stdout",
     "output_type": "stream",
     "text": [
      "Train shape :  (1306122, 3)\n",
      "Test shape :  (375806, 2)\n"
     ]
    }
   ],
   "source": [
    "train_df = pd.read_csv(\"../input/train.csv\")\n",
    "test_df = pd.read_csv(\"../input/test.csv\")\n",
    "print(\"Train shape : \",train_df.shape)\n",
    "print(\"Test shape : \",test_df.shape)"
   ]
  },
  {
   "cell_type": "code",
   "execution_count": 5,
   "metadata": {
    "_uuid": "31c1333133a5dd7309facdb29305bc8e99472f05"
   },
   "outputs": [],
   "source": [
    "from sklearn.model_selection import train_test_split\n",
    "from sklearn.metrics import f1_score\n",
    "\n",
    "train_df, val_df = train_test_split(train_df, test_size=0.1, random_state=2018)\n",
    "## Get the target values\n",
    "train_y = train_df['target'].values\n",
    "val_y = val_df['target'].values"
   ]
  },
  {
   "cell_type": "code",
   "execution_count": 6,
   "metadata": {
    "_uuid": "8a79914305abf2aa86734ea132a91536379bf84c"
   },
   "outputs": [],
   "source": [
    "def null_treatment(df):\n",
    "    return df[\"question_text\"].fillna(\"__NA__\").values\n",
    "\n",
    "train_texts = null_treatment(train_df)\n",
    "val_texts   = null_treatment(val_df)\n",
    "test_texts  = null_treatment(test_df)"
   ]
  },
  {
   "cell_type": "code",
   "execution_count": 7,
   "metadata": {
    "_uuid": "539a481554cc76aee3f4e89d186af436336e9afc"
   },
   "outputs": [],
   "source": [
    "del train_df\n"
   ]
  },
  {
   "cell_type": "code",
   "execution_count": 8,
   "metadata": {
    "_uuid": "cf9c4e44230e4d395830f231f55f6120315d64f2"
   },
   "outputs": [
    {
     "name": "stderr",
     "output_type": "stream",
     "text": [
      "Using TensorFlow backend.\n"
     ]
    }
   ],
   "source": [
    "from keras.preprocessing.text import Tokenizer\n",
    "max_features = 95000\n",
    "## Tokenize the sentences\n",
    "tokenizer = Tokenizer(num_words=max_features)\n",
    "tokenizer.fit_on_texts(np.concatenate([train_texts, val_texts, test_texts]))\n"
   ]
  },
  {
   "cell_type": "code",
   "execution_count": 9,
   "metadata": {
    "_uuid": "61d9f4a7554829d4e6a283266e44415d8f3749f4"
   },
   "outputs": [
    {
     "data": {
      "text/plain": [
       "0"
      ]
     },
     "execution_count": 9,
     "metadata": {},
     "output_type": "execute_result"
    }
   ],
   "source": [
    "from keras.preprocessing import sequence\n",
    "train_sequences = tokenizer.texts_to_sequences(train_texts)\n",
    "valid_sequences = tokenizer.texts_to_sequences(val_texts)\n",
    "test_sequences = tokenizer.texts_to_sequences(test_texts)\n",
    "\n",
    "del train_texts, val_texts, test_texts\n",
    "gc.collect()"
   ]
  },
  {
   "cell_type": "code",
   "execution_count": 10,
   "metadata": {
    "_uuid": "ed054b712a259eb31f010bafb027bfdc567986d9"
   },
   "outputs": [
    {
     "data": {
      "text/plain": [
       "0"
      ]
     },
     "execution_count": 10,
     "metadata": {},
     "output_type": "execute_result"
    }
   ],
   "source": [
    "max_len = 100\n",
    "train_X = sequence.pad_sequences(train_sequences, maxlen = max_len)\n",
    "val_X = sequence.pad_sequences(valid_sequences, maxlen = max_len)\n",
    "test_X = sequence.pad_sequences(test_sequences, maxlen = max_len)\n",
    "\n",
    "del train_sequences, valid_sequences, test_sequences\n",
    "gc.collect()"
   ]
  },
  {
   "cell_type": "code",
   "execution_count": 11,
   "metadata": {
    "_uuid": "4cc911f8e5b8fba8bf0608f66d11c6b67d1d919c"
   },
   "outputs": [
    {
     "name": "stderr",
     "output_type": "stream",
     "text": [
      "/opt/conda/lib/python3.6/site-packages/ipykernel_launcher.py:5: FutureWarning: arrays to stack must be passed as a \"sequence\" type such as list or tuple. Support for non-sequence iterables such as generators is deprecated as of NumPy 1.16 and will raise an error in the future.\n",
      "  \"\"\"\n",
      "/opt/conda/lib/python3.6/site-packages/ipykernel_launcher.py:25: FutureWarning: arrays to stack must be passed as a \"sequence\" type such as list or tuple. Support for non-sequence iterables such as generators is deprecated as of NumPy 1.16 and will raise an error in the future.\n"
     ]
    },
    {
     "data": {
      "text/plain": [
       "0"
      ]
     },
     "execution_count": 11,
     "metadata": {},
     "output_type": "execute_result"
    }
   ],
   "source": [
    "EMBEDDING_FILE = '../input/embeddings/glove.840B.300d/glove.840B.300d.txt'\n",
    "def get_coefs(word,*arr): return word, np.asarray(arr, dtype='float32')\n",
    "embeddings_index = dict(get_coefs(*o.split(\" \")) for o in open(EMBEDDING_FILE))\n",
    "\n",
    "all_embs = np.stack(embeddings_index.values())\n",
    "emb_mean,emb_std = all_embs.mean(), all_embs.std()\n",
    "embed_size = all_embs.shape[1]\n",
    "\n",
    "word_index = tokenizer.word_index\n",
    "nb_words = min(max_features, len(word_index))\n",
    "embedding_matrix = np.random.normal(emb_mean, emb_std, (nb_words, embed_size))\n",
    "for word, i in word_index.items():\n",
    "    if i >= max_features: continue\n",
    "    embedding_vector = embeddings_index.get(word)\n",
    "    if embedding_vector is not None: embedding_matrix[i] = embedding_vector\n",
    "\n",
    "embedding_matrix_1 = embedding_matrix\n",
    "del embeddings_index , word_index, all_embs,embedding_matrix\n",
    "gc.collect()\n",
    "\n",
    "EMBEDDING_FILE = '../input/embeddings/paragram_300_sl999/paragram_300_sl999.txt'\n",
    "def get_coefs(word,*arr): return word, np.asarray(arr, dtype='float32')\n",
    "embeddings_index = dict(get_coefs(*o.split(\" \")) for o in open(EMBEDDING_FILE, encoding=\"utf8\", errors='ignore') if len(o)>100)\n",
    "\n",
    "all_embs = np.stack(embeddings_index.values())\n",
    "emb_mean,emb_std = all_embs.mean(), all_embs.std()\n",
    "embed_size = all_embs.shape[1]\n",
    "word_index = tokenizer.word_index\n",
    "nb_words = min(max_features, len(word_index))\n",
    "embedding_matrix = np.random.normal(emb_mean, emb_std, (nb_words, embed_size))\n",
    "for word, i in word_index.items():\n",
    "    if i >= max_features: continue\n",
    "    embedding_vector = embeddings_index.get(word)\n",
    "    if embedding_vector is not None: embedding_matrix[i] = embedding_vector\n",
    "\n",
    "\n",
    "embedding_matrix = np.mean((embedding_matrix, embedding_matrix_1), axis=0)\n",
    "del embedding_matrix_1,embeddings_index , word_index, all_embs\n",
    "gc.collect()\n",
    "\n"
   ]
  },
  {
   "cell_type": "code",
   "execution_count": 12,
   "metadata": {
    "_uuid": "3f6e836999ebb51cccf5fcc4119faa7a704d9adb"
   },
   "outputs": [],
   "source": [
    "import keras\n",
    "\n",
    "class SWA(keras.callbacks.Callback):\n",
    "    \n",
    "    def __init__(self, filepath, swa_epoch):\n",
    "        super(SWA, self).__init__()\n",
    "        self.filepath = filepath\n",
    "        self.swa_epoch = swa_epoch \n",
    "    \n",
    "    def on_train_begin(self, logs=None):\n",
    "        self.nb_epoch = self.params['epochs']\n",
    "        print('Stochastic weight averaging selected for last {} epochs.'\n",
    "              .format(self.nb_epoch - self.swa_epoch))\n",
    "        \n",
    "    def on_epoch_end(self, epoch, logs=None):\n",
    "        \n",
    "        if epoch == self.swa_epoch:\n",
    "            self.swa_weights = self.model.get_weights()\n",
    "            \n",
    "        elif epoch > self.swa_epoch:    \n",
    "            for i, layer in enumerate(self.model.layers):\n",
    "                self.swa_weights[i] = (self.swa_weights[i] * \n",
    "                    (epoch - self.swa_epoch) + self.model.get_weights()[i])/((epoch - self.swa_epoch)  + 1)  \n",
    "\n",
    "        else:\n",
    "            pass\n",
    "        \n",
    "    def on_train_end(self, logs=None):\n",
    "        self.model.set_weights(self.swa_weights)\n",
    "        print('Final model parameters set to stochastic weight average.')\n",
    "        self.model.save_weights(self.filepath)\n",
    "        print('Final stochastic averaged weights saved to file.')"
   ]
  },
  {
   "cell_type": "code",
   "execution_count": 13,
   "metadata": {
    "_uuid": "53ba0eb1d395f5b07c81e4a1a2f3be2d790728a2"
   },
   "outputs": [],
   "source": [
    "from keras import backend as K\n",
    "from keras.engine.topology import Layer\n",
    "from keras import initializers, regularizers, constraints\n",
    "\n",
    "\n",
    "class Attention(Layer):\n",
    "    def __init__(self, step_dim,\n",
    "                 W_regularizer=None, b_regularizer=None,\n",
    "                 W_constraint=None, b_constraint=None,\n",
    "                 bias=True, **kwargs):\n",
    "        self.supports_masking = True\n",
    "        self.init = initializers.get('glorot_uniform')\n",
    "\n",
    "        self.W_regularizer = regularizers.get(W_regularizer)\n",
    "        self.b_regularizer = regularizers.get(b_regularizer)\n",
    "\n",
    "        self.W_constraint = constraints.get(W_constraint)\n",
    "        self.b_constraint = constraints.get(b_constraint)\n",
    "\n",
    "        self.bias = bias\n",
    "        self.step_dim = step_dim\n",
    "        self.features_dim = 0\n",
    "        super(Attention, self).__init__(**kwargs)\n",
    "\n",
    "    def build(self, input_shape):\n",
    "        assert len(input_shape) == 3\n",
    "\n",
    "        self.W = self.add_weight((input_shape[-1],),\n",
    "                                 initializer=self.init,\n",
    "                                 name='{}_W'.format(self.name),\n",
    "                                 regularizer=self.W_regularizer,\n",
    "                                 constraint=self.W_constraint)\n",
    "        self.features_dim = input_shape[-1]\n",
    "\n",
    "        if self.bias:\n",
    "            self.b = self.add_weight((input_shape[1],),\n",
    "                                     initializer='zero',\n",
    "                                     name='{}_b'.format(self.name),\n",
    "                                     regularizer=self.b_regularizer,\n",
    "                                     constraint=self.b_constraint)\n",
    "        else:\n",
    "            self.b = None\n",
    "\n",
    "        self.built = True\n",
    "\n",
    "    def compute_mask(self, input, input_mask=None):\n",
    "        return None\n",
    "\n",
    "    def call(self, x, mask=None):\n",
    "        features_dim = self.features_dim\n",
    "        step_dim = self.step_dim\n",
    "\n",
    "        eij = K.reshape(K.dot(K.reshape(x, (-1, features_dim)),\n",
    "                        K.reshape(self.W, (features_dim, 1))), (-1, step_dim))\n",
    "\n",
    "        if self.bias:\n",
    "            eij += self.b\n",
    "\n",
    "        eij = K.tanh(eij)\n",
    "\n",
    "        a = K.exp(eij)\n",
    "\n",
    "        if mask is not None:\n",
    "            a *= K.cast(mask, K.floatx())\n",
    "\n",
    "        a /= K.cast(K.sum(a, axis=1, keepdims=True) + K.epsilon(), K.floatx())\n",
    "\n",
    "        a = K.expand_dims(a)\n",
    "        weighted_input = x * a\n",
    "        return K.sum(weighted_input, axis=1)\n",
    "\n",
    "    def compute_output_shape(self, input_shape):\n",
    "        return input_shape[0],  self.features_dim"
   ]
  },
  {
   "cell_type": "code",
   "execution_count": 14,
   "metadata": {
    "_uuid": "4e8efa2cf7821d41abd9c056038c56017464bc69"
   },
   "outputs": [],
   "source": [
    "from keras import backend as K\n",
    "from keras.callbacks import *\n",
    "\n",
    "class CyclicLR(Callback):\n",
    "    \"\"\"This callback implements a cyclical learning rate policy (CLR).\n",
    "    The method cycles the learning rate between two boundaries with\n",
    "    some constant frequency, as detailed in this paper (https://arxiv.org/abs/1506.01186).\n",
    "    The amplitude of the cycle can be scaled on a per-iteration or \n",
    "    per-cycle basis.\n",
    "    This class has three built-in policies, as put forth in the paper.\n",
    "    \"triangular\":\n",
    "        A basic triangular cycle w/ no amplitude scaling.\n",
    "    \"triangular2\":\n",
    "        A basic triangular cycle that scales initial amplitude by half each cycle.\n",
    "    \"exp_range\":\n",
    "        A cycle that scales initial amplitude by gamma**(cycle iterations) at each \n",
    "        cycle iteration.\n",
    "    For more detail, please see paper.\n",
    "    \n",
    "    # Example\n",
    "        ```python\n",
    "            clr = CyclicLR(base_lr=0.001, max_lr=0.006,\n",
    "                                step_size=2000., mode='triangular')\n",
    "            model.fit(X_train, Y_train, callbacks=[clr])\n",
    "        ```\n",
    "    \n",
    "    Class also supports custom scaling functions:\n",
    "        ```python\n",
    "            clr_fn = lambda x: 0.5*(1+np.sin(x*np.pi/2.))\n",
    "            clr = CyclicLR(base_lr=0.001, max_lr=0.006,\n",
    "                                step_size=2000., scale_fn=clr_fn,\n",
    "                                scale_mode='cycle')\n",
    "            model.fit(X_train, Y_train, callbacks=[clr])\n",
    "        ```    \n",
    "    # Arguments\n",
    "        base_lr: initial learning rate which is the\n",
    "            lower boundary in the cycle.\n",
    "        max_lr: upper boundary in the cycle. Functionally,\n",
    "            it defines the cycle amplitude (max_lr - base_lr).\n",
    "            The lr at any cycle is the sum of base_lr\n",
    "            and some scaling of the amplitude; therefore \n",
    "            max_lr may not actually be reached depending on\n",
    "            scaling function.\n",
    "        step_size: number of training iterations per\n",
    "            half cycle. Authors suggest setting step_size\n",
    "            2-8 x training iterations in epoch.\n",
    "        mode: one of {triangular, triangular2, exp_range}.\n",
    "            Default 'triangular'.\n",
    "            Values correspond to policies detailed above.\n",
    "            If scale_fn is not None, this argument is ignored.\n",
    "        gamma: constant in 'exp_range' scaling function:\n",
    "            gamma**(cycle iterations)\n",
    "        scale_fn: Custom scaling policy defined by a single\n",
    "            argument lambda function, where \n",
    "            0 <= scale_fn(x) <= 1 for all x >= 0.\n",
    "            mode paramater is ignored \n",
    "        scale_mode: {'cycle', 'iterations'}.\n",
    "            Defines whether scale_fn is evaluated on \n",
    "            cycle number or cycle iterations (training\n",
    "            iterations since start of cycle). Default is 'cycle'.\n",
    "    \"\"\"\n",
    "\n",
    "    def __init__(self, base_lr=0.001, max_lr=0.006, step_size=2000., mode='triangular',\n",
    "                 gamma=1., scale_fn=None, scale_mode='cycle'):\n",
    "        super(CyclicLR, self).__init__()\n",
    "\n",
    "        self.base_lr = base_lr\n",
    "        self.max_lr = max_lr\n",
    "        self.step_size = step_size\n",
    "        self.mode = mode\n",
    "        self.gamma = gamma\n",
    "        if scale_fn == None:\n",
    "            if self.mode == 'triangular':\n",
    "                self.scale_fn = lambda x: 1.\n",
    "                self.scale_mode = 'cycle'\n",
    "            elif self.mode == 'triangular2':\n",
    "                self.scale_fn = lambda x: 1/(2.**(x-1))\n",
    "                self.scale_mode = 'cycle'\n",
    "            elif self.mode == 'exp_range':\n",
    "                self.scale_fn = lambda x: gamma**(x)\n",
    "                self.scale_mode = 'iterations'\n",
    "        else:\n",
    "            self.scale_fn = scale_fn\n",
    "            self.scale_mode = scale_mode\n",
    "        self.clr_iterations = 0.\n",
    "        self.trn_iterations = 0.\n",
    "        self.history = {}\n",
    "\n",
    "        self._reset()\n",
    "\n",
    "    def _reset(self, new_base_lr=None, new_max_lr=None,\n",
    "               new_step_size=None):\n",
    "        \"\"\"Resets cycle iterations.\n",
    "        Optional boundary/step size adjustment.\n",
    "        \"\"\"\n",
    "        if new_base_lr != None:\n",
    "            self.base_lr = new_base_lr\n",
    "        if new_max_lr != None:\n",
    "            self.max_lr = new_max_lr\n",
    "        if new_step_size != None:\n",
    "            self.step_size = new_step_size\n",
    "        self.clr_iterations = 0.\n",
    "        \n",
    "    def clr(self):\n",
    "        cycle = np.floor(1+self.clr_iterations/(2*self.step_size))\n",
    "        x = np.abs(self.clr_iterations/self.step_size - 2*cycle + 1)\n",
    "        if self.scale_mode == 'cycle':\n",
    "            return self.base_lr + (self.max_lr-self.base_lr)*np.maximum(0, (1-x))*self.scale_fn(cycle)\n",
    "        else:\n",
    "            return self.base_lr + (self.max_lr-self.base_lr)*np.maximum(0, (1-x))*self.scale_fn(self.clr_iterations)\n",
    "        \n",
    "    def on_train_begin(self, logs={}):\n",
    "        logs = logs or {}\n",
    "\n",
    "        if self.clr_iterations == 0:\n",
    "            K.set_value(self.model.optimizer.lr, self.base_lr)\n",
    "        else:\n",
    "            K.set_value(self.model.optimizer.lr, self.clr())        \n",
    "            \n",
    "    def on_batch_end(self, epoch, logs=None):\n",
    "        \n",
    "        logs = logs or {}\n",
    "        self.trn_iterations += 1\n",
    "        self.clr_iterations += 1\n",
    "\n",
    "        self.history.setdefault('lr', []).append(K.get_value(self.model.optimizer.lr))\n",
    "        self.history.setdefault('iterations', []).append(self.trn_iterations)\n",
    "\n",
    "        for k, v in logs.items():\n",
    "            self.history.setdefault(k, []).append(v)\n",
    "        \n",
    "        K.set_value(self.model.optimizer.lr, self.clr())\n",
    "    \n",
    "\n",
    "def f1_calc(y_true, y_pred):\n",
    "    '''\n",
    "    metric from here \n",
    "    https://stackoverflow.com/questions/43547402/how-to-calculate-f1-macro-in-keras\n",
    "    '''\n",
    "    def recall(y_true, y_pred):\n",
    "        \"\"\"Recall metric.\n",
    "\n",
    "        Only computes a batch-wise average of recall.\n",
    "\n",
    "        Computes the recall, a metric for multi-label classification of\n",
    "        how many relevant items are selected.\n",
    "        \"\"\"\n",
    "        true_positives = K.sum(K.round(K.clip(y_true * y_pred, 0, 1)))\n",
    "        possible_positives = K.sum(K.round(K.clip(y_true, 0, 1)))\n",
    "        recall = true_positives / (possible_positives + K.epsilon())\n",
    "        return recall\n",
    "\n",
    "    def precision(y_true, y_pred):\n",
    "        \"\"\"Precision metric.\n",
    "\n",
    "        Only computes a batch-wise average of precision.\n",
    "\n",
    "        Computes the precision, a metric for multi-label classification of\n",
    "        how many selected items are relevant.\n",
    "        \"\"\"\n",
    "        true_positives = K.sum(K.round(K.clip(y_true * y_pred, 0, 1)))\n",
    "        predicted_positives = K.sum(K.round(K.clip(y_pred, 0, 1)))\n",
    "        precision = true_positives / (predicted_positives + K.epsilon())\n",
    "        return precision\n",
    "    precision = precision(y_true, y_pred)\n",
    "    recall = recall(y_true, y_pred)\n",
    "    return 2*((precision*recall)/(precision+recall+K.epsilon()))\n",
    " \n",
    "\n",
    "clr = CyclicLR(base_lr=0.001, max_lr=0.007,\n",
    "                        step_size=300., mode='exp_range',\n",
    "                        gamma=0.99994)"
   ]
  },
  {
   "cell_type": "code",
   "execution_count": 15,
   "metadata": {
    "_uuid": "13dc7bf9d2fccd63687a18dbc753676aed0909e7"
   },
   "outputs": [
    {
     "name": "stdout",
     "output_type": "stream",
     "text": [
      "__________________________________________________________________________________________________\n",
      "Layer (type)                    Output Shape         Param #     Connected to                     \n",
      "==================================================================================================\n",
      "input_1 (InputLayer)            (None, 100)          0                                            \n",
      "__________________________________________________________________________________________________\n",
      "embedding_1 (Embedding)         (None, 100, 300)     28500000    input_1[0][0]                    \n",
      "__________________________________________________________________________________________________\n",
      "spatial_dropout1d_1 (SpatialDro (None, 100, 300)     0           embedding_1[0][0]                \n",
      "__________________________________________________________________________________________________\n",
      "bidirectional_1 (Bidirectional) (None, 100, 80)      109440      spatial_dropout1d_1[0][0]        \n",
      "__________________________________________________________________________________________________\n",
      "bidirectional_2 (Bidirectional) (None, 100, 80)      39040       bidirectional_1[0][0]            \n",
      "__________________________________________________________________________________________________\n",
      "attention_1 (Attention)         (None, 80)           180         bidirectional_1[0][0]            \n",
      "__________________________________________________________________________________________________\n",
      "attention_2 (Attention)         (None, 80)           180         bidirectional_2[0][0]            \n",
      "__________________________________________________________________________________________________\n",
      "global_average_pooling1d_1 (Glo (None, 80)           0           bidirectional_2[0][0]            \n",
      "__________________________________________________________________________________________________\n",
      "global_max_pooling1d_1 (GlobalM (None, 80)           0           bidirectional_2[0][0]            \n",
      "__________________________________________________________________________________________________\n",
      "concatenate_1 (Concatenate)     (None, 320)          0           attention_1[0][0]                \n",
      "                                                                 attention_2[0][0]                \n",
      "                                                                 global_average_pooling1d_1[0][0] \n",
      "                                                                 global_max_pooling1d_1[0][0]     \n",
      "__________________________________________________________________________________________________\n",
      "dense_1 (Dense)                 (None, 32)           10272       concatenate_1[0][0]              \n",
      "__________________________________________________________________________________________________\n",
      "batch_normalization_1 (BatchNor (None, 32)           128         dense_1[0][0]                    \n",
      "__________________________________________________________________________________________________\n",
      "dropout_1 (Dropout)             (None, 32)           0           batch_normalization_1[0][0]      \n",
      "__________________________________________________________________________________________________\n",
      "dense_2 (Dense)                 (None, 1)            33          dropout_1[0][0]                  \n",
      "==================================================================================================\n",
      "Total params: 28,659,273\n",
      "Trainable params: 159,209\n",
      "Non-trainable params: 28,500,064\n",
      "__________________________________________________________________________________________________\n",
      "None\n"
     ]
    }
   ],
   "source": [
    "from keras.layers import Dense, Input, LSTM, Embedding, Dropout, Activation, CuDNNLSTM,CuDNNGRU, Conv1D\n",
    "from keras.layers import Bidirectional, GlobalMaxPool1D\n",
    "from keras.models import Model\n",
    "from keras import initializers, regularizers, constraints, optimizers, layers\n",
    "from keras.layers.normalization import BatchNormalization\n",
    "from keras.layers import SpatialDropout1D,GlobalAveragePooling1D,GlobalMaxPooling1D,concatenate\n",
    "\n",
    "maxlen = max_len\n",
    "inp = Input(shape=(max_len,))\n",
    "x = Embedding(max_features, embedding_matrix.shape[1], weights=[embedding_matrix], trainable=False)(inp)\n",
    "\n",
    "x = SpatialDropout1D(0.2)(x)\n",
    "x = Bidirectional(CuDNNLSTM(40, return_sequences=True))(x)\n",
    "y = Bidirectional(CuDNNLSTM(40, return_sequences=True))(x)\n",
    "    \n",
    "atten_1 = Attention(max_len)(x) # skip connect\n",
    "atten_2 = Attention(max_len)(y)\n",
    "avg_pool = GlobalAveragePooling1D()(y)\n",
    "max_pool = GlobalMaxPooling1D()(y)\n",
    "    \n",
    "conc = concatenate([atten_1, atten_2, avg_pool, max_pool])\n",
    "conc = Dense(32, activation=\"relu\")(conc)\n",
    "conc = BatchNormalization(axis =1 )(conc)\n",
    "conc = Dropout(0.1)(conc)\n",
    "outp = Dense(1, activation=\"sigmoid\")(conc)    \n",
    "\n",
    "model = Model(inputs=inp, outputs=outp)\n",
    "model.compile(loss='binary_crossentropy', optimizer='rmsprop', metrics=[f1_calc])\n",
    "print(model.summary())"
   ]
  },
  {
   "cell_type": "code",
   "execution_count": 16,
   "metadata": {
    "_uuid": "414e72437916d8494ba7ddb022c0aacc577c7694"
   },
   "outputs": [
    {
     "name": "stdout",
     "output_type": "stream",
     "text": [
      "Train on 1175509 samples, validate on 130613 samples\n",
      "Stochastic weight averaging selected for last 6 epochs.\n",
      "Epoch 1/10\n",
      "1175509/1175509 [==============================] - 312s 265us/step - loss: 0.1419 - f1_calc: 0.5320 - val_loss: 0.1382 - val_f1_calc: 0.6415\n",
      "Epoch 2/10\n",
      "1175509/1175509 [==============================] - 305s 260us/step - loss: 0.1084 - f1_calc: 0.5995 - val_loss: 0.1094 - val_f1_calc: 0.6628\n",
      "Epoch 3/10\n",
      " 689664/1175509 [================>.............] - ETA: 2:01 - loss: 0.1033 - f1_calc: 0.6264"
     ]
    }
   ],
   "source": [
    "tmp_path = \"/tmp/tmp\" \n",
    "model_path = \"/tmp/model/\"\n",
    "\n",
    "swa = SWA('./keras_swa.model',4)\n",
    "\n",
    "model.fit(train_X, train_y, batch_size=512, epochs= 10 ,callbacks = [swa,], validation_data=(val_X, val_y))"
   ]
  },
  {
   "cell_type": "code",
   "execution_count": 17,
   "metadata": {
    "_uuid": "5aaac3bf024fac81c6afe0a5ad826aeb4eee041f"
   },
   "outputs": [
    {
     "name": "stdout",
     "output_type": "stream",
     "text": [
      "using swa weight model\n"
     ]
    }
   ],
   "source": [
    "# Load best model\n",
    "try:\n",
    "    print('using swa weight model')\n",
    "    model.load_weights('./keras_swa.model')\n",
    "except:\n",
    "    model.load_weights('./keras.model')"
   ]
  },
  {
   "cell_type": "code",
   "execution_count": 18,
   "metadata": {
    "_uuid": "5823bf0da31cb3d86c810f67361ac45dd2eabfd7"
   },
   "outputs": [],
   "source": [
    "## Model design\n",
    "from IPython.display import SVG\n",
    "from keras.utils.vis_utils import model_to_dot\n",
    " \n",
    "SVG(model_to_dot(model).create(prog = \"dot\", format = \"svg\") )\n",
    " \n",
    "from keras.utils import plot_model\n",
    "plot_model(model, to_file = \"../working/model.png\") ##, show_shapes=True, show_layer_names=True)"
   ]
  },
  {
   "cell_type": "code",
   "execution_count": 19,
   "metadata": {
    "_uuid": "9f0fbc07e212b4416298b67ec3677d2eb5d67c48"
   },
   "outputs": [
    {
     "data": {
      "image/png": "[encoded data removed]",
      "text/plain": [
       "<IPython.core.display.Image object>"
      ]
     },
     "execution_count": 19,
     "metadata": {},
     "output_type": "execute_result"
    }
   ],
   "source": [
    "from IPython.display import Image\n",
    "Image(\"../working/model.png\")"
   ]
  },
  {
   "cell_type": "code",
   "execution_count": 20,
   "metadata": {
    "_uuid": "e066d7a6c2b76df92f4f14c2b78cd89df9166d55"
   },
   "outputs": [
    {
     "name": "stdout",
     "output_type": "stream",
     "text": [
      "1175509/1175509 [==============================] - 78s 67us/step\n",
      "0.16\n",
      "0.7358368889033645\n"
     ]
    }
   ],
   "source": [
    "from sklearn import metrics\n",
    "\n",
    "pred_train_glLSTM_y = model.predict([train_X], batch_size=1024, verbose=1)\n",
    "train_target = train_y\n",
    "\n",
    "thresh_glLSTM = 0.5\n",
    "f1_opt = 0\n",
    "for thresh in np.arange(0.1, 0.91, 0.01):\n",
    "    thresh = np.round(thresh, 2)\n",
    "    f1_value = metrics.f1_score(train_target, (pred_train_glLSTM_y.astype(float) > thresh).astype(int))\n",
    "    #print(\"F1 score at threshold {0} is {1}\".format(thresh, f1))\n",
    "    if f1_opt < f1_value:\n",
    "        f1_opt = f1_value\n",
    "        thresh_glLSTM = thresh\n",
    "print(thresh_glLSTM)\n",
    "pred_train_glLSTM_y_final = (pred_train_glLSTM_y > thresh_glLSTM).astype(np.int)\n",
    "print(f1_score(train_target, pred_train_glLSTM_y_final))"
   ]
  },
  {
   "cell_type": "code",
   "execution_count": 21,
   "metadata": {
    "_uuid": "0c225ddbd2aa1eaff90f747583a3ab3093028157"
   },
   "outputs": [
    {
     "name": "stdout",
     "output_type": "stream",
     "text": [
      "130613/130613 [==============================] - 9s 67us/step\n",
      "0.16\n",
      "0.6889561975768872\n"
     ]
    }
   ],
   "source": [
    "pred_val_glLSTM_y = model.predict([val_X], batch_size=1024, verbose=1)\n",
    "val_target = val_y\n",
    "\n",
    "thresh_glLSTM = 0.5\n",
    "f1_opt = 0\n",
    "for thresh in np.arange(0.1, 0.91, 0.01):\n",
    "    thresh = np.round(thresh, 2)\n",
    "    f1_value = metrics.f1_score(val_target, (pred_val_glLSTM_y.astype(float) > thresh).astype(int))\n",
    "    #print(\"F1 score at threshold {0} is {1}\".format(thresh, f1))\n",
    "    if f1_opt < f1_value:\n",
    "        f1_opt = f1_value\n",
    "        thresh_glLSTM = thresh\n",
    "print(thresh_glLSTM)\n",
    "#pred_val_bilstm_y_final = (pred_val_bigru_y > thresh_glLSTM).astype(np.int)\n",
    "pred_val_bilstm_y_final = (pred_val_glLSTM_y > thresh_glLSTM).astype(np.int)\n",
    "print(f1_score(val_target, pred_val_bilstm_y_final))"
   ]
  },
  {
   "cell_type": "code",
   "execution_count": 22,
   "metadata": {
    "_uuid": "e7b8c10071f5cce3dc19d986a43b298a5063b0c6"
   },
   "outputs": [
    {
     "name": "stdout",
     "output_type": "stream",
     "text": [
      "0.7358368889033645\n"
     ]
    }
   ],
   "source": [
    "print(f1_score(train_target, (pred_train_glLSTM_y > thresh_glLSTM).astype(np.int)))"
   ]
  },
  {
   "cell_type": "code",
   "execution_count": 23,
   "metadata": {
    "_uuid": "9fce1248806b0516d0d985d19a9afc8fe1e6f48e"
   },
   "outputs": [
    {
     "name": "stdout",
     "output_type": "stream",
     "text": [
      "375806/375806 [==============================] - 25s 66us/step\n"
     ]
    }
   ],
   "source": [
    "pred_test_bilstm_y = model.predict([test_X], batch_size=1024, verbose=1)\n"
   ]
  },
  {
   "cell_type": "code",
   "execution_count": 24,
   "metadata": {
    "_uuid": "24cecad273977e31efd40e28856d0d4b01c9fca2"
   },
   "outputs": [],
   "source": [
    "def most_false_negative(pred_y,true_y,thresh, N ):\n",
    "    pred_y_round = (pred_y>thresh)\n",
    "    \n",
    "    flag = (pred_y_round == 0) & (true_y == 1)[:,np.newaxis]\n",
    "    \n",
    "    idxs = np.where(flag)[0] # ignore the np.newaxis dimension\n",
    "    newidx = np.argsort(pred_y[idxs,0])\n",
    "\n",
    "    return idxs[newidx[:N]], pred_y[idxs[newidx[:N]]]\n",
    "\n",
    "def most_uncertain_negative(pred_y,true_y,thresh, N ):\n",
    "    pred_y_round = (pred_y>thresh)\n",
    "    flag = (pred_y_round == 0) & (true_y == 1)[:,np.newaxis]\n",
    "    \n",
    "    idxs = np.where(flag)[0] # ignore the np.newaxis dimension\n",
    "    newidx = np.argsort(pred_y[idxs,0])\n",
    "    return idxs[newidx[-N:]], pred_y[idxs[newidx[-N:]]]\n",
    "\n",
    "def most_uncertain_positive(pred_y,true_y,thresh, N ):\n",
    "    pred_y_round = (pred_y>thresh)\n",
    "    \n",
    "    flag = (pred_y_round == 1) & (true_y == 0)[:,np.newaxis]\n",
    "    \n",
    "    idxs = np.where(flag)[0] # ignore the np.newaxis dimension\n",
    "    newidx = np.argsort(pred_y[idxs,0])\n",
    "\n",
    "    return idxs[newidx[:N]], pred_y[idxs[newidx[:N]]]\n",
    "\n",
    "def most_false_positive(pred_y,true_y,thresh, N ):\n",
    "    pred_y_round = (pred_y>thresh)\n",
    "    flag = (pred_y_round == 1) & (true_y == 0)[:,np.newaxis]\n",
    "    \n",
    "    idxs = np.where(flag)[0] # ignore the np.newaxis dimension\n",
    "    newidx = np.argsort(pred_y[idxs,0])\n",
    "    return idxs[newidx[-N:]], pred_y[idxs[newidx[-N:]]]\n",
    "\n",
    "def most_true_positive(pred_y,true_y,thresh, N ):\n",
    "    pred_y_round = (pred_y>thresh)\n",
    "    \n",
    "    flag = (pred_y_round == 1) & (true_y == 1)[:,np.newaxis]\n",
    "    \n",
    "    idxs = np.where(flag)[0] # ignore the np.newaxis dimension\n",
    "    newidx = np.argsort(pred_y[idxs,0])\n",
    "\n",
    "    return idxs[newidx[-N:]], pred_y[idxs[newidx[-N:]]]"
   ]
  },
  {
   "cell_type": "code",
   "execution_count": 25,
   "metadata": {
    "_uuid": "3657694445db065d42f8d764c630381671951468"
   },
   "outputs": [],
   "source": [
    "# Example Count to explore for each question\n",
    "NN = 10\n",
    "## Validation prediction\n",
    "pred =  pred_val_glLSTM_y\n",
    "thresh_fin = thresh_glLSTM"
   ]
  },
  {
   "cell_type": "code",
   "execution_count": 26,
   "metadata": {
    "_uuid": "ebe903da77322130eaa881b976069159abf4a90f"
   },
   "outputs": [
    {
     "name": "stdout",
     "output_type": "stream",
     "text": [
      "class 0 [0.91142184] Why was it ok to use public funds to transport blacks to the polls to vote for Obama? Blacks who never voted in their life voted solely on color. Why isn't that racist? If whites proudly stated they voted for a white person it would never fly.\n",
      "class 0 [0.9182942] If Muslim men cut their penis in childhood, then how are they able to pee and produce so many children?\n",
      "class 0 [0.9206569] Why would a young, beautiful woman like Melania marry an old, fat bastard like Donald Trump?\n",
      "class 0 [0.9273666] Should we kick out Muslims from India?\n",
      "class 0 [0.92889756] Are Bangladeshi women ugly?\n",
      "class 0 [0.9325481] Why don’t the Christian and Muslim quarter be under Palestinian control and the Jewish quarter be under Israeli control?\n",
      "class 0 [0.93764615] Are Indians ruining Quora with their silly answers copied from Facebook and WhatsApp?\n",
      "class 0 [0.94907016] If Mr. Frodo had asked Samwise Gamgee to castrate himself, would he have? How would Rosie react?\n",
      "class 0 [0.96715164] Did Luke Skywalker perform self- castration during his Jedi training?\n",
      "class 0 [0.9754995] If I put a gun to your head and ordered you to castrate your dog without anaesthesia, would you complete the procedure?\n"
     ]
    }
   ],
   "source": [
    "##what are insincere topics where the network strongly believe to be sincere ?\n",
    "idx, prob = most_false_positive( pred, val_y,thresh_fin,NN)\n",
    "for i in range(NN):\n",
    "    print('class',val_y[idx[i]],prob[i],val_df[\"question_text\"].values[idx[i]])"
   ]
  },
  {
   "cell_type": "code",
   "execution_count": 27,
   "metadata": {
    "_uuid": "9500339a00ac2583e862b920407a39e1a7252ed7"
   },
   "outputs": [
    {
     "name": "stdout",
     "output_type": "stream",
     "text": [
      "class 1 [1.0047527e-06] What if iam having bleeding after my regular periods on my ovulation day?\n",
      "class 1 [1.940261e-06] What astrological combinations are needed to obtain a scholarship for studies?\n",
      "class 1 [3.3018885e-06] How can I design a logo on PowerPoint?\n",
      "class 1 [4.559017e-06] Is there any spot round in COMEDK? If yes, how is it conducting?\n",
      "class 1 [1.332324e-05] What are some popular night spots in Chicago?\n",
      "class 1 [1.5242949e-05] How many SITA devices are present in Ramayana?\n",
      "class 1 [1.5345091e-05] How competitive is the hiring process at NVIDIA?\n",
      "class 1 [1.994286e-05] How do I choose the best payday loan deal in Calgary?\n",
      "class 1 [2.1206737e-05] How many karats needed for a karat farm?\n",
      "class 1 [2.1854998e-05] How often do your gums bleed?\n"
     ]
    }
   ],
   "source": [
    "###what are sincere topics where the network strongly believe to be insincere ?\n",
    "idx, prob = most_false_negative( pred, val_y,thresh_fin,NN)\n",
    "for i in range(NN):\n",
    "    print('class',val_y[idx[i]],prob[i],val_df[\"question_text\"].values[idx[i]])"
   ]
  },
  {
   "cell_type": "code",
   "execution_count": 28,
   "metadata": {
    "_uuid": "e0493c6b0a8780e59c7633101c9c40b094642514"
   },
   "outputs": [
    {
     "name": "stdout",
     "output_type": "stream",
     "text": [
      "Keep in mind our chosen threshold is:\n",
      "0.16\n",
      "\n",
      "\n",
      "class 0 [0.16011325] Do all overweight and obese people binge?\n",
      "class 0 [0.16024299] Do preachers who keep affirming \"Biblical inerrancy\" have integrity or are they irresponsible to their congregation?\n",
      "class 0 [0.16028625] Why so many Indians in US prefer to live abridged versions of Indian life, starting from selecting spouses & culture, imstead of assimilating?\n",
      "class 0 [0.16035472] Why do taurus people love so hard?\n",
      "class 0 [0.16044523] How can change gay hormones in a straight man?\n",
      "\n",
      "\n",
      "class 1 [0.15925789] Israel is the cause of all the worlds problems why does it exist?\n",
      "class 1 [0.15939191] Do smart people pretend to believe in god in order to fit in with stupider people around them?\n",
      "class 1 [0.15946251] What will the people that insist Donald Trump colluded with Russia say when he is still president on Jan 19, 2021?\n",
      "class 1 [0.15958627] Was Hitler a furry?\n",
      "class 1 [0.15961424] How many times has Prince Harry had intimate relations with the Duchess of Cambridge?\n"
     ]
    }
   ],
   "source": [
    "###what are the topics where the network are most uncertain how to classify ?\n",
    "print('Keep in mind our chosen threshold is:')\n",
    "print(thresh_fin)\n",
    "print('\\n')\n",
    "NN_2 = np.int(NN/2)\n",
    "idx, prob = most_uncertain_positive( pred, val_y,thresh_fin,NN_2)\n",
    "for i in range(NN_2):\n",
    "    print('class',val_y[idx[i]],prob[i],val_df[\"question_text\"].values[idx[i]])\n",
    "print('\\n')\n",
    "\n",
    "idx, prob = most_uncertain_negative( pred, val_y,thresh_fin,NN_2)\n",
    "for i in range(NN_2):\n",
    "    print('class',val_y[idx[i]],prob[i],val_df[\"question_text\"].values[idx[i]])"
   ]
  },
  {
   "cell_type": "code",
   "execution_count": 29,
   "metadata": {
    "_uuid": "fc36e4d9beb2a31449336382cb96b53ccb495baf"
   },
   "outputs": [
    {
     "name": "stdout",
     "output_type": "stream",
     "text": [
      "class 1 [0.98243356] Can a son have sexual intercourse with his mother?\n",
      "class 1 [0.9829297] I want to have sex with my elder sister in . how can I?\n",
      "class 1 [0.9832184] How can a human perform self-castration? God has requested I mutilate myself, but I was hoping there was a better way than cutting open my scrotum, pulling out my testicle and severing the spermatic cord.\n",
      "class 1 [0.9833286] Why cant I have sex with my mom?\n",
      "class 1 [0.984144] Mother's, would you be okay for trying to fuck your 30 yr old son if you were single, lived with him and his dick was big?\n",
      "class 1 [0.98487896] Why are the Quora moderators fucking assholes?\n",
      "class 1 [0.98634726] How many of you like to fuck your mom?\n",
      "class 1 [0.98866475] Which site has the best son mom incest videos for free?\n",
      "class 1 [0.99115294] Can I have intercourse with my mom?\n",
      "class 1 [0.99435556] I want to have sex with my sister. She has Milky large boobs and hot figure. How to proceed?\n"
     ]
    }
   ],
   "source": [
    "###what are insincere topics where the network strongly believes correctly ?\n",
    "idx, prob = most_true_positive( pred, val_y,thresh_fin,NN)\n",
    "for i in range(NN):\n",
    "    print('class',val_y[idx[i]],prob[i],val_df[\"question_text\"].values[idx[i]])"
   ]
  },
  {
   "cell_type": "code",
   "execution_count": 30,
   "metadata": {
    "_uuid": "0248668dd048a158d90188c0f683b74a68e7edba"
   },
   "outputs": [
    {
     "data": {
      "text/plain": [
       "<matplotlib.axes._subplots.AxesSubplot at 0x7fed5e0d6470>"
      ]
     },
     "execution_count": 30,
     "metadata": {},
     "output_type": "execute_result"
    },
    {
     "data": {
      "image/png": "[encoded data removed]",
      "text/plain": [
       "<Figure size 432x288 with 2 Axes>"
      ]
     },
     "metadata": {},
     "output_type": "display_data"
    }
   ],
   "source": [
    "# Confusion Matrix\n",
    "from sklearn.metrics import confusion_matrix\n",
    "from sklearn import metrics\n",
    "import matplotlib.pyplot as plt\n",
    "import scikitplot as skplt\n",
    "skplt.metrics.plot_confusion_matrix(val_y, pred_val_bilstm_y_final,labels = [1,0])"
   ]
  },
  {
   "cell_type": "code",
   "execution_count": 31,
   "metadata": {
    "_uuid": "737de1ca164145be8de8e3352c813493337d1ca2"
   },
   "outputs": [
    {
     "name": "stdout",
     "output_type": "stream",
     "text": [
      "0.06866308680542621\n"
     ]
    }
   ],
   "source": [
    "pred_test_final = ( pred_test_bilstm_y > thresh_glLSTM).astype(np.int)\n",
    "submission = pd.DataFrame.from_dict({'qid': test_df['qid']})\n",
    "submission['prediction'] = pred_test_final\n",
    "print(np.sum(submission.prediction)/(test_df.shape[0]))\n",
    "submission.to_csv('submission.csv', index=False)\n"
   ]
  }
 ],
 "metadata": {
  "kernelspec": {
   "display_name": "Python 3",
   "language": "python",
   "name": "python3"
  },
  "language_info": {
   "codemirror_mode": {
    "name": "ipython",
    "version": 3
   },
   "file_extension": ".py",
   "mimetype": "text/x-python",
   "name": "python",
   "nbconvert_exporter": "python",
   "pygments_lexer": "ipython3",
   "version": "3.6.4"
  }
 },
 "nbformat": 4,
 "nbformat_minor": 1
}
